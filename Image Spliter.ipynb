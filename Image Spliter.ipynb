{
 "cells": [
  {
   "cell_type": "code",
   "execution_count": 1,
   "metadata": {},
   "outputs": [],
   "source": [
    "from PIL import Image\n",
    "import numpy as np\n",
    "import argparse\n",
    "import cv2\n",
    "from skimage import io\n",
    "from skimage.external import tifffile\n",
    "from skimage.transform import rotate\n",
    "from skimage.color import rgb2gray\n",
    "from deskew import determine_skew\n",
    "\n",
    "# Tutorials\n",
    "# https://github.com/sbrunner/deskew\n",
    "# https://auth0.com/blog/image-processing-in-python-with-pillow/"
   ]
  },
  {
   "cell_type": "code",
   "execution_count": 26,
   "metadata": {},
   "outputs": [],
   "source": [
    "# Convert image to PNG for processing\n",
    "baseImage = Image.open(r\"/Users/max/Quick Jupyter Notebooks/MMAI/MMAI 894 - Deep Learning/planet_order_448650/LC80890812019310LGN00/LC80890812019310LGN00_Visual.tif\")\n",
    "baseImage.save(\"/Users/max/Quick Jupyter Notebooks/MMAI/MMAI 894 - Deep Learning/code_cache/baseImgae_PNG\", \"PNG\")\n",
    "baseImage = io.imread(r\"/Users/max/Quick Jupyter Notebooks/MMAI/MMAI 894 - Deep Learning/code_cache/baseImgae_PNG\")"
   ]
  },
  {
   "cell_type": "code",
   "execution_count": 27,
   "metadata": {},
   "outputs": [],
   "source": [
    "# Rotate and save image\n",
    "grayscale = rgb2gray(baseImage)\n",
    "angle = determine_skew(grayscale)\n",
    "rotated = rotate(baseImage, angle, resize=True)*255\n",
    "io.imsave(r'/Users/max/Quick Jupyter Notebooks/MMAI/MMAI 894 - Deep Learning/code_cache/baseImgae_PNG_rotated.png', rotated.astype(np.uint8))"
   ]
  },
  {
   "cell_type": "code",
   "execution_count": 28,
   "metadata": {},
   "outputs": [
    {
     "data": {
      "text/plain": [
       "True"
      ]
     },
     "execution_count": 28,
     "metadata": {},
     "output_type": "execute_result"
    }
   ],
   "source": [
    "# Find and crop grey edges\n",
    "img = cv2.imread('/Users/max/Quick Jupyter Notebooks/MMAI/MMAI 894 - Deep Learning/code_cache/baseImgae_PNG_rotated.png')\n",
    "grayscale = cv2.cvtColor(img,cv2.COLOR_BGR2GRAY)\n",
    "_,threshold = cv2.threshold(grayscale,1,255,cv2.THRESH_BINARY)\n",
    "contours,hierarchy = cv2.findContours(threshold,cv2.RETR_EXTERNAL,cv2.CHAIN_APPROX_SIMPLE)\n",
    "count = contours[0]\n",
    "x,y,w,h = cv2.boundingRect(count)\n",
    "cropped = img[y:y+h,x:x+w]\n",
    "cv2.imwrite('/Users/max/Quick Jupyter Notebooks/MMAI/MMAI 894 - Deep Learning/code_cache/baseImage_rotate_borderless.png',cropped)"
   ]
  },
  {
   "cell_type": "code",
   "execution_count": 30,
   "metadata": {},
   "outputs": [],
   "source": [
    "# Determine chunk size and chunk images\n",
    "\n",
    "ready_image = Image.open('/Users/max/Quick Jupyter Notebooks/MMAI/MMAI 894 - Deep Learning/code_cache/baseImage_rotate_borderless.png')\n",
    "width, height = ready_image.size\n",
    "chunks_wide = width//234\n",
    "chunks_high = height//234\n",
    "# ready_image = io.imread('/Users/max/Quick Jupyter Notebooks/MMAI/MMAI 894 - Deep Learning/code_cache/baseImage_rotate_borderless.png')\n",
    "\n",
    "chunkCoords = []\n",
    "chunkCount = (chunks_high+1)*(chunks_wide+1)\n",
    "chunkDim = 234\n",
    "Xs = []\n",
    "Ys = []\n",
    "increasingX = 0\n",
    "increasingY = 0\n",
    "while len(Xs) < chunks_wide:\n",
    "    Xs.append(increasingX)\n",
    "    increasingX += chunkDim\n",
    "Xs.append(width-chunkDim)\n",
    "\n",
    "while len(Ys) < chunks_high:\n",
    "    Ys.append(increasingY)\n",
    "    increasingY += chunkDim\n",
    "Ys.append(height-chunkDim)\n",
    "\n",
    "for x in Xs: \n",
    "    x1 = x\n",
    "    x2 = x+chunkDim\n",
    "    for y in Ys:\n",
    "        y1 = y\n",
    "        y2 = y + chunkDim\n",
    "        chunkCoords.append([x1,y1,x2,y2])\n",
    "\n"
   ]
  },
  {
   "cell_type": "code",
   "execution_count": 38,
   "metadata": {},
   "outputs": [],
   "source": [
    "# Generate Tiles\n",
    "\n",
    "for tile in chunkCoords:\n",
    "    cropped = ready_image.crop((tile[0], tile[1], tile[2], tile[3]))\n",
    "    filename = \"/Users/max/Quick Jupyter Notebooks/MMAI/MMAI 894 - Deep Learning/code_cache/tiles/{}-{}-{}-{}.png\".format(tile[0], tile[1], tile[2], tile[3])\n",
    "    cropped.save(filename, \"PNG\")\n",
    "    "
   ]
  },
  {
   "cell_type": "code",
   "execution_count": 36,
   "metadata": {},
   "outputs": [],
   "source": [
    "tester_crop = Image.open('/Users/max/Quick Jupyter Notebooks/MMAI/MMAI 894 - Deep Learning/baseImage_rotate_borderless.png')\n",
    "test_crop = tester_crop.crop((chunkCoords[0][0],chunkCoords[0][1], chunkCoords[0][2], chunkCoords[0][3]))\n",
    "test_crop.show()"
   ]
  },
  {
   "cell_type": "code",
   "execution_count": 32,
   "metadata": {},
   "outputs": [
    {
     "data": {
      "text/plain": [
       "'/Users/max/Quick Jupyter Notebooks/MMAI/MMAI 894 - Deep Learning/code_cache/tiles/0-0-234-234.png'"
      ]
     },
     "execution_count": 32,
     "metadata": {},
     "output_type": "execute_result"
    }
   ],
   "source": [
    "filename"
   ]
  },
  {
   "cell_type": "code",
   "execution_count": 34,
   "metadata": {},
   "outputs": [],
   "source": [
    "cropped.show()"
   ]
  },
  {
   "cell_type": "code",
   "execution_count": null,
   "metadata": {},
   "outputs": [],
   "source": []
  }
 ],
 "metadata": {
  "kernelspec": {
   "display_name": "Python 3",
   "language": "python",
   "name": "python3"
  },
  "language_info": {
   "codemirror_mode": {
    "name": "ipython",
    "version": 3
   },
   "file_extension": ".py",
   "mimetype": "text/x-python",
   "name": "python",
   "nbconvert_exporter": "python",
   "pygments_lexer": "ipython3",
   "version": "3.7.5"
  },
  "varInspector": {
   "cols": {
    "lenName": 16,
    "lenType": 16,
    "lenVar": 40
   },
   "kernels_config": {
    "python": {
     "delete_cmd_postfix": "",
     "delete_cmd_prefix": "del ",
     "library": "var_list.py",
     "varRefreshCmd": "print(var_dic_list())"
    },
    "r": {
     "delete_cmd_postfix": ") ",
     "delete_cmd_prefix": "rm(",
     "library": "var_list.r",
     "varRefreshCmd": "cat(var_dic_list()) "
    }
   },
   "types_to_exclude": [
    "module",
    "function",
    "builtin_function_or_method",
    "instance",
    "_Feature"
   ],
   "window_display": false
  }
 },
 "nbformat": 4,
 "nbformat_minor": 2
}
