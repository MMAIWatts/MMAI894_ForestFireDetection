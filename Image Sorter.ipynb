{
 "cells": [
  {
   "cell_type": "code",
   "execution_count": 2,
   "metadata": {},
   "outputs": [],
   "source": [
    "import pickle as pk\n",
    "import os\n",
    "import pandas as pd\n",
    "from PIL import Image\n",
    "import numpy as np\n",
    "import matplotlib.pyplot as plt\n",
    "import matplotlib.patches as patches\n",
    "import cv2"
   ]
  },
  {
   "cell_type": "code",
   "execution_count": 3,
   "metadata": {},
   "outputs": [],
   "source": [
    "smokeDir = os.path.dirname(\"/Users/max/Quick Jupyter Notebooks/MMAI/MMAI 894 - Deep Learning/sorted_images/smoke/\")\n",
    "unsureDir = os.path.dirname(\"/Users/max/Quick Jupyter Notebooks/MMAI/MMAI 894 - Deep Learning/sorted_images/unsure/\")\n",
    "clearDir = os.path.dirname(\"/Users/max/Quick Jupyter Notebooks/MMAI/MMAI 894 - Deep Learning/sorted_images/clear/\")\n",
    "sourceDir = os.path.dirname(\"/Users/max/Quick Jupyter Notebooks/MMAI/MMAI 894 - Deep Learning/code_cache/processedImages/\")"
   ]
  },
  {
   "cell_type": "code",
   "execution_count": 4,
   "metadata": {},
   "outputs": [],
   "source": [
    "tileInfo = pk.load(open(\"/Users/max/Quick Jupyter Notebooks/MMAI/MMAI 894 - Deep Learning/code_cache/tile_infoPickle\",'rb'))\n",
    "columns = [\"sourceFile\", \"tileName\", \"tilePath\"]\n",
    "tileInfo_df = pd.DataFrame(columns = columns)\n",
    "\n",
    "for sourceImage in tileInfo: \n",
    "    sourceTileInfo = pd.DataFrame.from_records(sourceImage)\n",
    "    sourceTileInfo.columns = columns\n",
    "    tileInfo_df = tileInfo_df.append(sourceTileInfo, ignore_index=True)"
   ]
  },
  {
   "cell_type": "code",
   "execution_count": null,
   "metadata": {},
   "outputs": [],
   "source": [
    "for sourceImage in tileInfo_df['sourceFile'].unique():\n",
    "    sourceImagePath = os.path.join(sourceDir, \"{}_prc\".format(sourceImage))\n",
    "    sourceImageLoaded = Image.open(sourceImagePath)\n",
    "#     sourceImageLoadedThumbnail = sourceImageLoaded.thumbnail((500,500))\n",
    "#     display(sourceImageLoaded)\n",
    "#     sourceImageArray = np.array(sourceImageLoaded)\n",
    "    fig, ax = plt.subplots(1)\n",
    "    fig.figimage(sourceImageLoaded)\n",
    "    rect = patches.Rectangle((234,234),234,234, linewidth=1, edgecolor = 'r', facecolor='none')\n",
    "    ax.add_patch(rect)\n",
    "    \n",
    "    plt.show()\n",
    "    "
   ]
  },
  {
   "cell_type": "code",
   "execution_count": 4,
   "metadata": {},
   "outputs": [],
   "source": [
    "for sourceImage in tileInfo_df['sourceFile'].unique():\n",
    "    sourceImagePath = os.path.join(sourceDir, \"{}_prc\".format(sourceImage))\n",
    "    sourceImageLoaded = cv2.imread(sourceImagePath)\n",
    "    rectImage = cv2.rectangle(sourceImageLoaded, (234,234), (468,468), (255,0,0),5)\n",
    "    height, width, channels = rectImage.shape\n",
    "    rectImageSmall = cv2.resize(rectImage, (height//10, width//10))\n",
    "    cv2.imshow('image',rectImageSmall)\n",
    "    cv2.waitKey(0)\n",
    "    cv2.destroyAllWindows()"
   ]
  },
  {
   "cell_type": "code",
   "execution_count": 15,
   "metadata": {},
   "outputs": [
    {
     "name": "stdout",
     "output_type": "stream",
     "text": [
      "LC81050792019359LGN00_Visual.tif\n",
      "sourceFile\n",
      "Enter choice: e\n",
      "no move\n",
      "sourceFile\n",
      "Enter choice: e\n",
      "no move\n",
      "sourceFile\n",
      "Enter choice: e\n",
      "no move\n",
      "sourceFile\n"
     ]
    },
    {
     "ename": "KeyboardInterrupt",
     "evalue": "",
     "output_type": "error",
     "traceback": [
      "\u001b[0;31m---------------------------------------------------------------------------\u001b[0m",
      "\u001b[0;31mKeyboardInterrupt\u001b[0m                         Traceback (most recent call last)",
      "\u001b[0;32m/opt/anaconda3/envs/QuickPythonEnv/lib/python3.7/site-packages/ipykernel/kernelbase.py\u001b[0m in \u001b[0;36m_input_request\u001b[0;34m(self, prompt, ident, parent, password)\u001b[0m\n\u001b[1;32m    883\u001b[0m             \u001b[0;32mtry\u001b[0m\u001b[0;34m:\u001b[0m\u001b[0;34m\u001b[0m\u001b[0;34m\u001b[0m\u001b[0m\n\u001b[0;32m--> 884\u001b[0;31m                 \u001b[0mident\u001b[0m\u001b[0;34m,\u001b[0m \u001b[0mreply\u001b[0m \u001b[0;34m=\u001b[0m \u001b[0mself\u001b[0m\u001b[0;34m.\u001b[0m\u001b[0msession\u001b[0m\u001b[0;34m.\u001b[0m\u001b[0mrecv\u001b[0m\u001b[0;34m(\u001b[0m\u001b[0mself\u001b[0m\u001b[0;34m.\u001b[0m\u001b[0mstdin_socket\u001b[0m\u001b[0;34m,\u001b[0m \u001b[0;36m0\u001b[0m\u001b[0;34m)\u001b[0m\u001b[0;34m\u001b[0m\u001b[0;34m\u001b[0m\u001b[0m\n\u001b[0m\u001b[1;32m    885\u001b[0m             \u001b[0;32mexcept\u001b[0m \u001b[0mException\u001b[0m\u001b[0;34m:\u001b[0m\u001b[0;34m\u001b[0m\u001b[0;34m\u001b[0m\u001b[0m\n",
      "\u001b[0;32m/opt/anaconda3/envs/QuickPythonEnv/lib/python3.7/site-packages/jupyter_client/session.py\u001b[0m in \u001b[0;36mrecv\u001b[0;34m(self, socket, mode, content, copy)\u001b[0m\n\u001b[1;32m    802\u001b[0m         \u001b[0;32mtry\u001b[0m\u001b[0;34m:\u001b[0m\u001b[0;34m\u001b[0m\u001b[0;34m\u001b[0m\u001b[0m\n\u001b[0;32m--> 803\u001b[0;31m             \u001b[0mmsg_list\u001b[0m \u001b[0;34m=\u001b[0m \u001b[0msocket\u001b[0m\u001b[0;34m.\u001b[0m\u001b[0mrecv_multipart\u001b[0m\u001b[0;34m(\u001b[0m\u001b[0mmode\u001b[0m\u001b[0;34m,\u001b[0m \u001b[0mcopy\u001b[0m\u001b[0;34m=\u001b[0m\u001b[0mcopy\u001b[0m\u001b[0;34m)\u001b[0m\u001b[0;34m\u001b[0m\u001b[0;34m\u001b[0m\u001b[0m\n\u001b[0m\u001b[1;32m    804\u001b[0m         \u001b[0;32mexcept\u001b[0m \u001b[0mzmq\u001b[0m\u001b[0;34m.\u001b[0m\u001b[0mZMQError\u001b[0m \u001b[0;32mas\u001b[0m \u001b[0me\u001b[0m\u001b[0;34m:\u001b[0m\u001b[0;34m\u001b[0m\u001b[0;34m\u001b[0m\u001b[0m\n",
      "\u001b[0;32m/opt/anaconda3/envs/QuickPythonEnv/lib/python3.7/site-packages/zmq/sugar/socket.py\u001b[0m in \u001b[0;36mrecv_multipart\u001b[0;34m(self, flags, copy, track)\u001b[0m\n\u001b[1;32m    474\u001b[0m         \"\"\"\n\u001b[0;32m--> 475\u001b[0;31m         \u001b[0mparts\u001b[0m \u001b[0;34m=\u001b[0m \u001b[0;34m[\u001b[0m\u001b[0mself\u001b[0m\u001b[0;34m.\u001b[0m\u001b[0mrecv\u001b[0m\u001b[0;34m(\u001b[0m\u001b[0mflags\u001b[0m\u001b[0;34m,\u001b[0m \u001b[0mcopy\u001b[0m\u001b[0;34m=\u001b[0m\u001b[0mcopy\u001b[0m\u001b[0;34m,\u001b[0m \u001b[0mtrack\u001b[0m\u001b[0;34m=\u001b[0m\u001b[0mtrack\u001b[0m\u001b[0;34m)\u001b[0m\u001b[0;34m]\u001b[0m\u001b[0;34m\u001b[0m\u001b[0;34m\u001b[0m\u001b[0m\n\u001b[0m\u001b[1;32m    476\u001b[0m         \u001b[0;31m# have first part already, only loop while more to receive\u001b[0m\u001b[0;34m\u001b[0m\u001b[0;34m\u001b[0m\u001b[0;34m\u001b[0m\u001b[0m\n",
      "\u001b[0;32mzmq/backend/cython/socket.pyx\u001b[0m in \u001b[0;36mzmq.backend.cython.socket.Socket.recv\u001b[0;34m()\u001b[0m\n",
      "\u001b[0;32mzmq/backend/cython/socket.pyx\u001b[0m in \u001b[0;36mzmq.backend.cython.socket.Socket.recv\u001b[0;34m()\u001b[0m\n",
      "\u001b[0;32mzmq/backend/cython/socket.pyx\u001b[0m in \u001b[0;36mzmq.backend.cython.socket._recv_copy\u001b[0;34m()\u001b[0m\n",
      "\u001b[0;32m/opt/anaconda3/envs/QuickPythonEnv/lib/python3.7/site-packages/zmq/backend/cython/checkrc.pxd\u001b[0m in \u001b[0;36mzmq.backend.cython.checkrc._check_rc\u001b[0;34m()\u001b[0m\n",
      "\u001b[0;31mKeyboardInterrupt\u001b[0m: ",
      "\nDuring handling of the above exception, another exception occurred:\n",
      "\u001b[0;31mKeyboardInterrupt\u001b[0m                         Traceback (most recent call last)",
      "\u001b[0;32m<ipython-input-15-e2da301d978d>\u001b[0m in \u001b[0;36m<module>\u001b[0;34m\u001b[0m\n\u001b[1;32m      6\u001b[0m         \u001b[0;32mwhile\u001b[0m \u001b[0mmovePath\u001b[0m \u001b[0;34m==\u001b[0m \u001b[0;34m\"\"\u001b[0m\u001b[0;34m:\u001b[0m\u001b[0;34m\u001b[0m\u001b[0;34m\u001b[0m\u001b[0m\n\u001b[1;32m      7\u001b[0m             \u001b[0mprint\u001b[0m\u001b[0;34m(\u001b[0m\u001b[0mtile\u001b[0m\u001b[0;34m)\u001b[0m\u001b[0;34m\u001b[0m\u001b[0;34m\u001b[0m\u001b[0m\n\u001b[0;32m----> 8\u001b[0;31m             \u001b[0mkb_input\u001b[0m \u001b[0;34m=\u001b[0m \u001b[0minput\u001b[0m\u001b[0;34m(\u001b[0m\u001b[0;34m\"Enter choice: \"\u001b[0m\u001b[0;34m)\u001b[0m\u001b[0;34m\u001b[0m\u001b[0;34m\u001b[0m\u001b[0m\n\u001b[0m\u001b[1;32m      9\u001b[0m             \u001b[0;32mif\u001b[0m \u001b[0mkb_input\u001b[0m \u001b[0;34m==\u001b[0m \u001b[0;34m'f'\u001b[0m\u001b[0;34m:\u001b[0m\u001b[0;34m\u001b[0m\u001b[0;34m\u001b[0m\u001b[0m\n\u001b[1;32m     10\u001b[0m                 \u001b[0mmovePath\u001b[0m \u001b[0;34m=\u001b[0m \u001b[0;34m\"moved to fire\"\u001b[0m\u001b[0;34m\u001b[0m\u001b[0;34m\u001b[0m\u001b[0m\n",
      "\u001b[0;32m/opt/anaconda3/envs/QuickPythonEnv/lib/python3.7/site-packages/ipykernel/kernelbase.py\u001b[0m in \u001b[0;36mraw_input\u001b[0;34m(self, prompt)\u001b[0m\n\u001b[1;32m    857\u001b[0m             \u001b[0mself\u001b[0m\u001b[0;34m.\u001b[0m\u001b[0m_parent_ident\u001b[0m\u001b[0;34m,\u001b[0m\u001b[0;34m\u001b[0m\u001b[0;34m\u001b[0m\u001b[0m\n\u001b[1;32m    858\u001b[0m             \u001b[0mself\u001b[0m\u001b[0;34m.\u001b[0m\u001b[0m_parent_header\u001b[0m\u001b[0;34m,\u001b[0m\u001b[0;34m\u001b[0m\u001b[0;34m\u001b[0m\u001b[0m\n\u001b[0;32m--> 859\u001b[0;31m             \u001b[0mpassword\u001b[0m\u001b[0;34m=\u001b[0m\u001b[0;32mFalse\u001b[0m\u001b[0;34m,\u001b[0m\u001b[0;34m\u001b[0m\u001b[0;34m\u001b[0m\u001b[0m\n\u001b[0m\u001b[1;32m    860\u001b[0m         )\n\u001b[1;32m    861\u001b[0m \u001b[0;34m\u001b[0m\u001b[0m\n",
      "\u001b[0;32m/opt/anaconda3/envs/QuickPythonEnv/lib/python3.7/site-packages/ipykernel/kernelbase.py\u001b[0m in \u001b[0;36m_input_request\u001b[0;34m(self, prompt, ident, parent, password)\u001b[0m\n\u001b[1;32m    887\u001b[0m             \u001b[0;32mexcept\u001b[0m \u001b[0mKeyboardInterrupt\u001b[0m\u001b[0;34m:\u001b[0m\u001b[0;34m\u001b[0m\u001b[0;34m\u001b[0m\u001b[0m\n\u001b[1;32m    888\u001b[0m                 \u001b[0;31m# re-raise KeyboardInterrupt, to truncate traceback\u001b[0m\u001b[0;34m\u001b[0m\u001b[0;34m\u001b[0m\u001b[0;34m\u001b[0m\u001b[0m\n\u001b[0;32m--> 889\u001b[0;31m                 \u001b[0;32mraise\u001b[0m \u001b[0mKeyboardInterrupt\u001b[0m\u001b[0;34m\u001b[0m\u001b[0;34m\u001b[0m\u001b[0m\n\u001b[0m\u001b[1;32m    890\u001b[0m             \u001b[0;32melse\u001b[0m\u001b[0;34m:\u001b[0m\u001b[0;34m\u001b[0m\u001b[0;34m\u001b[0m\u001b[0m\n\u001b[1;32m    891\u001b[0m                 \u001b[0;32mbreak\u001b[0m\u001b[0;34m\u001b[0m\u001b[0;34m\u001b[0m\u001b[0m\n",
      "\u001b[0;31mKeyboardInterrupt\u001b[0m: "
     ]
    }
   ],
   "source": [
    "for sourceImage in tileInfo_df['sourceFile'].unique():\n",
    "    print(sourceImage)\n",
    "    sourceImageTiles = tileInfo_df[tileInfo_df['sourceFile']==sourceImage]\n",
    "    for tile in sourceImageTiles:\n",
    "        movePath = \"\"\n",
    "        while movePath == \"\":\n",
    "            print(tile)\n",
    "            kb_input = input(\"Enter choice: \")\n",
    "            if kb_input == 'f':\n",
    "                movePath = \"moved to fire\"\n",
    "                print(movePath)\n",
    "            if kb_input == 'e':\n",
    "                print(\"no move\")"
   ]
  },
  {
   "cell_type": "code",
   "execution_count": null,
   "metadata": {},
   "outputs": [],
   "source": []
  },
  {
   "cell_type": "code",
   "execution_count": 5,
   "metadata": {},
   "outputs": [
    {
     "data": {
      "text/html": [
       "<div>\n",
       "<style scoped>\n",
       "    .dataframe tbody tr th:only-of-type {\n",
       "        vertical-align: middle;\n",
       "    }\n",
       "\n",
       "    .dataframe tbody tr th {\n",
       "        vertical-align: top;\n",
       "    }\n",
       "\n",
       "    .dataframe thead th {\n",
       "        text-align: right;\n",
       "    }\n",
       "</style>\n",
       "<table border=\"1\" class=\"dataframe\">\n",
       "  <thead>\n",
       "    <tr style=\"text-align: right;\">\n",
       "      <th></th>\n",
       "      <th>sourceFile</th>\n",
       "      <th>tileName</th>\n",
       "      <th>tilePath</th>\n",
       "    </tr>\n",
       "  </thead>\n",
       "  <tbody>\n",
       "    <tr>\n",
       "      <th>0</th>\n",
       "      <td>LC81050792019359LGN00_Visual.tif</td>\n",
       "      <td>LC81050792019359LGN00_Visual.tif-0-0-234-234.png</td>\n",
       "      <td>/Users/max/Quick Jupyter Notebooks/MMAI/MMAI 8...</td>\n",
       "    </tr>\n",
       "    <tr>\n",
       "      <th>1</th>\n",
       "      <td>LC81050792019359LGN00_Visual.tif</td>\n",
       "      <td>LC81050792019359LGN00_Visual.tif-0-234-234-468...</td>\n",
       "      <td>/Users/max/Quick Jupyter Notebooks/MMAI/MMAI 8...</td>\n",
       "    </tr>\n",
       "    <tr>\n",
       "      <th>2</th>\n",
       "      <td>LC81050792019359LGN00_Visual.tif</td>\n",
       "      <td>LC81050792019359LGN00_Visual.tif-0-468-234-702...</td>\n",
       "      <td>/Users/max/Quick Jupyter Notebooks/MMAI/MMAI 8...</td>\n",
       "    </tr>\n",
       "    <tr>\n",
       "      <th>3</th>\n",
       "      <td>LC81050792019359LGN00_Visual.tif</td>\n",
       "      <td>LC81050792019359LGN00_Visual.tif-0-702-234-936...</td>\n",
       "      <td>/Users/max/Quick Jupyter Notebooks/MMAI/MMAI 8...</td>\n",
       "    </tr>\n",
       "    <tr>\n",
       "      <th>4</th>\n",
       "      <td>LC81050792019359LGN00_Visual.tif</td>\n",
       "      <td>LC81050792019359LGN00_Visual.tif-0-936-234-117...</td>\n",
       "      <td>/Users/max/Quick Jupyter Notebooks/MMAI/MMAI 8...</td>\n",
       "    </tr>\n",
       "    <tr>\n",
       "      <th>...</th>\n",
       "      <td>...</td>\n",
       "      <td>...</td>\n",
       "      <td>...</td>\n",
       "    </tr>\n",
       "    <tr>\n",
       "      <th>7673</th>\n",
       "      <td>LC81070832020008LGN00_Visual.tif</td>\n",
       "      <td>LC81070832020008LGN00_Visual.tif-6281-5382-651...</td>\n",
       "      <td>/Users/max/Quick Jupyter Notebooks/MMAI/MMAI 8...</td>\n",
       "    </tr>\n",
       "    <tr>\n",
       "      <th>7674</th>\n",
       "      <td>LC81070832020008LGN00_Visual.tif</td>\n",
       "      <td>LC81070832020008LGN00_Visual.tif-6281-5616-651...</td>\n",
       "      <td>/Users/max/Quick Jupyter Notebooks/MMAI/MMAI 8...</td>\n",
       "    </tr>\n",
       "    <tr>\n",
       "      <th>7675</th>\n",
       "      <td>LC81070832020008LGN00_Visual.tif</td>\n",
       "      <td>LC81070832020008LGN00_Visual.tif-6281-5850-651...</td>\n",
       "      <td>/Users/max/Quick Jupyter Notebooks/MMAI/MMAI 8...</td>\n",
       "    </tr>\n",
       "    <tr>\n",
       "      <th>7676</th>\n",
       "      <td>LC81070832020008LGN00_Visual.tif</td>\n",
       "      <td>LC81070832020008LGN00_Visual.tif-6281-6084-651...</td>\n",
       "      <td>/Users/max/Quick Jupyter Notebooks/MMAI/MMAI 8...</td>\n",
       "    </tr>\n",
       "    <tr>\n",
       "      <th>7677</th>\n",
       "      <td>LC81070832020008LGN00_Visual.tif</td>\n",
       "      <td>LC81070832020008LGN00_Visual.tif-6281-6196-651...</td>\n",
       "      <td>/Users/max/Quick Jupyter Notebooks/MMAI/MMAI 8...</td>\n",
       "    </tr>\n",
       "  </tbody>\n",
       "</table>\n",
       "<p>7678 rows × 3 columns</p>\n",
       "</div>"
      ],
      "text/plain": [
       "                            sourceFile  \\\n",
       "0     LC81050792019359LGN00_Visual.tif   \n",
       "1     LC81050792019359LGN00_Visual.tif   \n",
       "2     LC81050792019359LGN00_Visual.tif   \n",
       "3     LC81050792019359LGN00_Visual.tif   \n",
       "4     LC81050792019359LGN00_Visual.tif   \n",
       "...                                ...   \n",
       "7673  LC81070832020008LGN00_Visual.tif   \n",
       "7674  LC81070832020008LGN00_Visual.tif   \n",
       "7675  LC81070832020008LGN00_Visual.tif   \n",
       "7676  LC81070832020008LGN00_Visual.tif   \n",
       "7677  LC81070832020008LGN00_Visual.tif   \n",
       "\n",
       "                                               tileName  \\\n",
       "0      LC81050792019359LGN00_Visual.tif-0-0-234-234.png   \n",
       "1     LC81050792019359LGN00_Visual.tif-0-234-234-468...   \n",
       "2     LC81050792019359LGN00_Visual.tif-0-468-234-702...   \n",
       "3     LC81050792019359LGN00_Visual.tif-0-702-234-936...   \n",
       "4     LC81050792019359LGN00_Visual.tif-0-936-234-117...   \n",
       "...                                                 ...   \n",
       "7673  LC81070832020008LGN00_Visual.tif-6281-5382-651...   \n",
       "7674  LC81070832020008LGN00_Visual.tif-6281-5616-651...   \n",
       "7675  LC81070832020008LGN00_Visual.tif-6281-5850-651...   \n",
       "7676  LC81070832020008LGN00_Visual.tif-6281-6084-651...   \n",
       "7677  LC81070832020008LGN00_Visual.tif-6281-6196-651...   \n",
       "\n",
       "                                               tilePath  \n",
       "0     /Users/max/Quick Jupyter Notebooks/MMAI/MMAI 8...  \n",
       "1     /Users/max/Quick Jupyter Notebooks/MMAI/MMAI 8...  \n",
       "2     /Users/max/Quick Jupyter Notebooks/MMAI/MMAI 8...  \n",
       "3     /Users/max/Quick Jupyter Notebooks/MMAI/MMAI 8...  \n",
       "4     /Users/max/Quick Jupyter Notebooks/MMAI/MMAI 8...  \n",
       "...                                                 ...  \n",
       "7673  /Users/max/Quick Jupyter Notebooks/MMAI/MMAI 8...  \n",
       "7674  /Users/max/Quick Jupyter Notebooks/MMAI/MMAI 8...  \n",
       "7675  /Users/max/Quick Jupyter Notebooks/MMAI/MMAI 8...  \n",
       "7676  /Users/max/Quick Jupyter Notebooks/MMAI/MMAI 8...  \n",
       "7677  /Users/max/Quick Jupyter Notebooks/MMAI/MMAI 8...  \n",
       "\n",
       "[7678 rows x 3 columns]"
      ]
     },
     "execution_count": 5,
     "metadata": {},
     "output_type": "execute_result"
    }
   ],
   "source": [
    "tileInfo_df"
   ]
  },
  {
   "cell_type": "code",
   "execution_count": null,
   "metadata": {},
   "outputs": [],
   "source": []
  }
 ],
 "metadata": {
  "kernelspec": {
   "display_name": "Python 3",
   "language": "python",
   "name": "python3"
  },
  "language_info": {
   "codemirror_mode": {
    "name": "ipython",
    "version": 3
   },
   "file_extension": ".py",
   "mimetype": "text/x-python",
   "name": "python",
   "nbconvert_exporter": "python",
   "pygments_lexer": "ipython3",
   "version": "3.7.5"
  },
  "varInspector": {
   "cols": {
    "lenName": 16,
    "lenType": 16,
    "lenVar": 40
   },
   "kernels_config": {
    "python": {
     "delete_cmd_postfix": "",
     "delete_cmd_prefix": "del ",
     "library": "var_list.py",
     "varRefreshCmd": "print(var_dic_list())"
    },
    "r": {
     "delete_cmd_postfix": ") ",
     "delete_cmd_prefix": "rm(",
     "library": "var_list.r",
     "varRefreshCmd": "cat(var_dic_list()) "
    }
   },
   "types_to_exclude": [
    "module",
    "function",
    "builtin_function_or_method",
    "instance",
    "_Feature"
   ],
   "window_display": false
  }
 },
 "nbformat": 4,
 "nbformat_minor": 4
}
