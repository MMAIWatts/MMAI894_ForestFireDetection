{
 "cells": [
  {
   "cell_type": "code",
   "execution_count": 3,
   "metadata": {},
   "outputs": [],
   "source": [
    "import cv2\n",
    "import numpy as np\n",
    "import os\n",
    "from random import shuffle\n",
    "from zipfile import ZipFile\n",
    "\n",
    "# NOTE: Please download image zip file from box here: https://ibm.box.com/s/5vozosal1gltqjvvn2wjd8r9ctwywlv8\n",
    "\n",
    "with ZipFile(\"final_sorted_images.zip\", 'r') as zipObj:\n",
    "    zipObj.extractall()\n",
    "\n",
    "fire_image_dir = \"sorted_images/fire\"\n",
    "normal_image_dir = \"sorted_images/selected_normal\"\n",
    "\n",
    "training_data = []\n",
    "\n",
    "# Label convention [fire, normal]\n",
    "\n",
    "for image in os.listdir(fire_image_dir):\n",
    "#     label = [1,0]\n",
    "    label = 1\n",
    "    path = os.path.join(fire_image_dir, image)\n",
    "    image = cv2.imread(path, cv2.IMREAD_COLOR)\n",
    "    \n",
    "    if image is not None: \n",
    "        image = cv2.resize(image, (224,224))\n",
    "        training_data.append([np.array(image), label])\n",
    "    else: \n",
    "        pass\n",
    "    shuffle(training_data)\n",
    "print(\"fire images done\")\n",
    "\n",
    "for image in os.listdir(normal_image_dir):\n",
    "#     label = [0,1]\n",
    "    label = 0\n",
    "    path = os.path.join(normal_image_dir, image)\n",
    "    image = cv2.imread(path, cv2.IMREAD_COLOR)\n",
    "    \n",
    "    if image is not None: \n",
    "        image = cv2.resize(image, (224,224))\n",
    "        training_data.append([np.array(image), label])\n",
    "    else:\n",
    "        \"image_passed\"\n",
    "        pass\n",
    "    shuffle(training_data)\n",
    "print(\"normal images done\")\n",
    "\n",
    "np.save('training_data.npy', training_data)\n",
    "print(\"Data saved\")\n",
    "        "
   ]
  }
 ],
 "metadata": {
  "kernelspec": {
   "display_name": "Python 3",
   "language": "python",
   "name": "python3"
  },
  "language_info": {
   "codemirror_mode": {
    "name": "ipython",
    "version": 3
   },
   "file_extension": ".py",
   "mimetype": "text/x-python",
   "name": "python",
   "nbconvert_exporter": "python",
   "pygments_lexer": "ipython3",
   "version": "3.6.8"
  },
  "pycharm": {
   "stem_cell": {
    "cell_type": "raw",
    "metadata": {
     "collapsed": false
    },
    "source": []
   }
  }
 },
 "nbformat": 4,
 "nbformat_minor": 4
}
