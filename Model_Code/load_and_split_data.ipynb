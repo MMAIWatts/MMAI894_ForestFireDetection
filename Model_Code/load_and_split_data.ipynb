{
 "cells": [
  {
   "cell_type": "code",
   "execution_count": 1,
   "metadata": {},
   "outputs": [],
   "source": [
    "import cv2\n",
    "import numpy as np\n",
    "import os\n",
    "from random import shuffle\n",
    "from zipfile import ZipFile\n",
    "\n",
    "# NOTE: Please download image zip file from box here: https://ibm.box.com/s/5vozosal1gltqjvvn2wjd8r9ctwywlv8"
   ]
  },
  {
   "cell_type": "code",
   "execution_count": 5,
   "metadata": {},
   "outputs": [
    {
     "ename": "FileNotFoundError",
     "evalue": "[Errno 2] No such file or directory: 'file-to-download-to'",
     "output_type": "error",
     "traceback": [
      "\u001b[0;31m---------------------------------------------------------------------------\u001b[0m",
      "\u001b[0;31mFileNotFoundError\u001b[0m                         Traceback (most recent call last)",
      "\u001b[0;32m<ipython-input-5-aa130394ca7d>\u001b[0m in \u001b[0;36m<module>\u001b[0;34m\u001b[0m\n\u001b[1;32m      2\u001b[0m \u001b[0mclient\u001b[0m \u001b[0;34m=\u001b[0m \u001b[0mstorage\u001b[0m\u001b[0;34m.\u001b[0m\u001b[0mClient\u001b[0m\u001b[0;34m(\u001b[0m\u001b[0;34m)\u001b[0m\u001b[0;34m\u001b[0m\u001b[0;34m\u001b[0m\u001b[0m\n\u001b[1;32m      3\u001b[0m \u001b[0;34m\u001b[0m\u001b[0m\n\u001b[0;32m----> 4\u001b[0;31m \u001b[0;32mwith\u001b[0m \u001b[0mopen\u001b[0m\u001b[0;34m(\u001b[0m\u001b[0;34m'file-to-download-to'\u001b[0m\u001b[0;34m)\u001b[0m \u001b[0;32mas\u001b[0m \u001b[0mfile_obj\u001b[0m\u001b[0;34m:\u001b[0m\u001b[0;34m\u001b[0m\u001b[0;34m\u001b[0m\u001b[0m\n\u001b[0m\u001b[1;32m      5\u001b[0m     \u001b[0mclient\u001b[0m\u001b[0;34m.\u001b[0m\u001b[0mdownload_blob_to_file\u001b[0m\u001b[0;34m(\u001b[0m\u001b[0;34m'gs://citric-inkwell-268501/final_sorted_images.zip'\u001b[0m\u001b[0;34m,\u001b[0m \u001b[0mfile_obj\u001b[0m\u001b[0;34m)\u001b[0m\u001b[0;34m\u001b[0m\u001b[0;34m\u001b[0m\u001b[0m\n",
      "\u001b[0;31mFileNotFoundError\u001b[0m: [Errno 2] No such file or directory: 'file-to-download-to'"
     ]
    }
   ],
   "source": [
    "from google.cloud import storage\n",
    "client = storage.Client()\n",
    "\n",
    "with open('file-to-download-to') as file_obj:\n",
    "    client.download_blob_to_file('gs://citric-inkwell-268501/final_sorted_images.zip', file_obj)"
   ]
  },
  {
   "cell_type": "code",
   "execution_count": 2,
   "metadata": {},
   "outputs": [],
   "source": [
    "with ZipFile(\"final_sorted_images.zip\", 'r') as zipObj:\n",
    "    zipObj.extractall()"
   ]
  },
  {
   "cell_type": "code",
   "execution_count": 3,
   "metadata": {},
   "outputs": [
    {
     "name": "stdout",
     "output_type": "stream",
     "text": [
      "fire images done\n",
      "normal images done\n",
      "Data saved\n"
     ]
    }
   ],
   "source": [
    "fire_image_dir = \"sorted_images/fire\"\n",
    "normal_image_dir = \"sorted_images/selected_normal\"\n",
    "\n",
    "training_data = []\n",
    "\n",
    "# Label convention [fire, normal]\n",
    "\n",
    "for image in os.listdir(fire_image_dir):\n",
    "#     label = [1,0]\n",
    "    label = 1\n",
    "    path = os.path.join(fire_image_dir, image)\n",
    "    image = cv2.imread(path, cv2.IMREAD_COLOR)\n",
    "    \n",
    "    if image is not None: \n",
    "        image = cv2.resize(image, (224,224))\n",
    "        training_data.append([np.array(image), label])\n",
    "    else: \n",
    "        pass\n",
    "    shuffle(training_data)\n",
    "print(\"fire images done\")\n",
    "\n",
    "for image in os.listdir(normal_image_dir):\n",
    "#     label = [0,1]\n",
    "    label = 0\n",
    "    path = os.path.join(normal_image_dir, image)\n",
    "    image = cv2.imread(path, cv2.IMREAD_COLOR)\n",
    "    \n",
    "    if image is not None: \n",
    "        image = cv2.resize(image, (224,224))\n",
    "        training_data.append([np.array(image), label])\n",
    "    else:\n",
    "        \"image_passed\"\n",
    "        pass\n",
    "    shuffle(training_data)\n",
    "print(\"normal images done\")\n",
    "\n",
    "np.save('training_data.npy', training_data)\n",
    "print(\"Data saved\")\n",
    "        "
   ]
  },
  {
   "cell_type": "code",
   "execution_count": null,
   "metadata": {},
   "outputs": [],
   "source": []
  }
 ],
 "metadata": {
  "kernelspec": {
   "display_name": "Python 3",
   "language": "python",
   "name": "python3"
  },
  "language_info": {
   "codemirror_mode": {
    "name": "ipython",
    "version": 3
   },
   "file_extension": ".py",
   "mimetype": "text/x-python",
   "name": "python",
   "nbconvert_exporter": "python",
   "pygments_lexer": "ipython3",
   "version": "3.7.6"
  },
  "pycharm": {
   "stem_cell": {
    "cell_type": "raw",
    "metadata": {
     "collapsed": false
    },
    "source": []
   }
  }
 },
 "nbformat": 4,
 "nbformat_minor": 4
}
