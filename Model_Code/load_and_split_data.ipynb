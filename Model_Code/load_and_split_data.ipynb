{
 "cells": [
  {
   "cell_type": "code",
   "execution_count": 1,
   "metadata": {},
   "outputs": [],
   "source": [
    "import cv2\n",
    "import numpy as np\n",
    "import os\n",
    "from random import shuffle\n",
    "from zipfile import ZipFile\n",
    "\n",
    "# NOTE: Please download image zip file from box here: https://ibm.box.com/s/5vozosal1gltqjvvn2wjd8r9ctwywlv8"
   ]
  },
  {
   "cell_type": "code",
   "execution_count": 2,
   "metadata": {},
   "outputs": [],
   "source": [
    "from google.cloud import storage  \n",
    "\n",
    "def download_blob(bucket_name, source_blob_name, destination_file_name):\n",
    "    \"\"\"Downloads a blob from the bucket.\"\"\"\n",
    "#     bucket_name = \"citric-inkwell-268501\"\n",
    "#     source_blob_name = \"final_sorted_images.zip\"\n",
    "#     destination_file_name = \"final_sorted_images2.zip\"\n",
    "\n",
    "    storage_client = storage.Client()\n",
    "\n",
    "    bucket = storage_client.bucket(bucket_name)\n",
    "    blob = bucket.blob(source_blob_name)\n",
    "    blob.download_to_filename(destination_file_name)\n",
    "\n",
    "    print(\n",
    "        \"Blob {} downloaded to {}.\".format(\n",
    "            source_blob_name, destination_file_name\n",
    "        )\n",
    "    )"
   ]
  },
  {
   "cell_type": "code",
   "execution_count": 3,
   "metadata": {},
   "outputs": [
    {
     "name": "stdout",
     "output_type": "stream",
     "text": [
      "Blob final_sorted_images.zip downloaded to final_sorted_images2.zip.\n"
     ]
    }
   ],
   "source": [
    "# Download data from g\n",
    "download_blob('citric-inkwell-268501', 'final_sorted_images.zip', 'final_sorted_images2.zip')"
   ]
  },
  {
   "cell_type": "code",
   "execution_count": 2,
   "metadata": {},
   "outputs": [],
   "source": [
    "with ZipFile(\"final_sorted_images.zip\", 'r') as zipObj:\n",
    "    zipObj.extractall()"
   ]
  },
  {
   "cell_type": "code",
   "execution_count": 3,
   "metadata": {},
   "outputs": [
    {
     "name": "stdout",
     "output_type": "stream",
     "text": [
      "fire images done\n",
      "normal images done\n",
      "Data saved\n"
     ]
    }
   ],
   "source": [
    "fire_image_dir = \"sorted_images/fire\"\n",
    "normal_image_dir = \"sorted_images/selected_normal\"\n",
    "\n",
    "training_data = []\n",
    "\n",
    "# Label convention [fire, normal]\n",
    "\n",
    "for image in os.listdir(fire_image_dir):\n",
    "#     label = [1,0]\n",
    "    label = 1\n",
    "    path = os.path.join(fire_image_dir, image)\n",
    "    image = cv2.imread(path, cv2.IMREAD_COLOR)\n",
    "    \n",
    "    if image is not None: \n",
    "        image = cv2.resize(image, (224,224))\n",
    "        training_data.append([np.array(image), label])\n",
    "    else: \n",
    "        pass\n",
    "    shuffle(training_data)\n",
    "print(\"fire images done\")\n",
    "\n",
    "for image in os.listdir(normal_image_dir):\n",
    "#     label = [0,1]\n",
    "    label = 0\n",
    "    path = os.path.join(normal_image_dir, image)\n",
    "    image = cv2.imread(path, cv2.IMREAD_COLOR)\n",
    "    \n",
    "    if image is not None: \n",
    "        image = cv2.resize(image, (224,224))\n",
    "        training_data.append([np.array(image), label])\n",
    "    else:\n",
    "        \"image_passed\"\n",
    "        pass\n",
    "    shuffle(training_data)\n",
    "print(\"normal images done\")\n",
    "\n",
    "np.save('training_data.npy', training_data)\n",
    "print(\"Data saved\")\n",
    "        "
   ]
  },
  {
   "cell_type": "code",
   "execution_count": null,
   "metadata": {},
   "outputs": [],
   "source": []
  }
 ],
 "metadata": {
  "kernelspec": {
   "display_name": "Python 3",
   "language": "python",
   "name": "python3"
  },
  "language_info": {
   "codemirror_mode": {
    "name": "ipython",
    "version": 3
   },
   "file_extension": ".py",
   "mimetype": "text/x-python",
   "name": "python",
   "nbconvert_exporter": "python",
   "pygments_lexer": "ipython3",
   "version": "3.7.6"
  },
  "pycharm": {
   "stem_cell": {
    "cell_type": "raw",
    "metadata": {
     "collapsed": false
    },
    "source": []
   }
  }
 },
 "nbformat": 4,
 "nbformat_minor": 4
}
