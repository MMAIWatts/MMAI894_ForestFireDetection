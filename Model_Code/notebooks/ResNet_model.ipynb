{
 "cells": [
  {
   "cell_type": "code",
   "execution_count": 0,
   "metadata": {
    "colab": {
     "base_uri": "https://localhost:8080/",
     "height": 129
    },
    "colab_type": "code",
    "id": "Gd7nGfLPdAbJ",
    "outputId": "76486064-02e1-4f21-e695-3f5e77308a27"
   },
   "outputs": [
    {
     "name": "stdout",
     "output_type": "stream",
     "text": [
      "Go to this URL in a browser: https://accounts.google.com/o/oauth2/auth?client_id=947318989803-6bn6qk8qdgf4n4g3pfee6491hc0brc4i.apps.googleusercontent.com&redirect_uri=urn%3aietf%3awg%3aoauth%3a2.0%3aoob&response_type=code&scope=email%20https%3a%2f%2fwww.googleapis.com%2fauth%2fdocs.test%20https%3a%2f%2fwww.googleapis.com%2fauth%2fdrive%20https%3a%2f%2fwww.googleapis.com%2fauth%2fdrive.photos.readonly%20https%3a%2f%2fwww.googleapis.com%2fauth%2fpeopleapi.readonly\n",
      "\n",
      "Enter your authorization code:\n",
      "··········\n",
      "Mounted at /content/gdrive\n"
     ]
    }
   ],
   "source": [
    "from google.colab import drive\n",
    "drive.mount('/content/gdrive')"
   ]
  },
  {
   "cell_type": "code",
   "execution_count": 0,
   "metadata": {
    "colab": {
     "base_uri": "https://localhost:8080/",
     "height": 35
    },
    "colab_type": "code",
    "id": "DdPctDtedNke",
    "outputId": "b10f1d71-f9c1-4033-a376-dd061ee51898"
   },
   "outputs": [
    {
     "name": "stdout",
     "output_type": "stream",
     "text": [
      "/content/gdrive/My Drive/MMAI\n"
     ]
    }
   ],
   "source": [
    "%cd /content/gdrive/My Drive/MMAI/"
   ]
  },
  {
   "cell_type": "code",
   "execution_count": 0,
   "metadata": {
    "colab": {},
    "colab_type": "code",
    "id": "Q7tbu1L_c9Y6"
   },
   "outputs": [],
   "source": [
    "import cv2\n",
    "import numpy as np\n",
    "import os\n",
    "from random import shuffle\n",
    "from zipfile import ZipFile\n"
   ]
  },
  {
   "cell_type": "code",
   "execution_count": 0,
   "metadata": {
    "colab": {
     "base_uri": "https://localhost:8080/",
     "height": 83
    },
    "colab_type": "code",
    "id": "GZKy44fLeexL",
    "outputId": "c952fc14-66e7-4a3e-913d-23ce929625a7"
   },
   "outputs": [
    {
     "data": {
      "text/html": [
       "<p style=\"color: red;\">\n",
       "The default version of TensorFlow in Colab will soon switch to TensorFlow 2.x.<br>\n",
       "We recommend you <a href=\"https://www.tensorflow.org/guide/migrate\" target=\"_blank\">upgrade</a> now \n",
       "or ensure your notebook will continue to use TensorFlow 1.x via the <code>%tensorflow_version 1.x</code> magic:\n",
       "<a href=\"https://colab.research.google.com/notebooks/tensorflow_version.ipynb\" target=\"_blank\">more info</a>.</p>\n"
      ],
      "text/plain": [
       "<IPython.core.display.HTML object>"
      ]
     },
     "metadata": {
      "tags": []
     },
     "output_type": "display_data"
    },
    {
     "name": "stderr",
     "output_type": "stream",
     "text": [
      "Using TensorFlow backend.\n"
     ]
    }
   ],
   "source": [
    "import numpy as np\n",
    "from sklearn.model_selection import train_test_split\n",
    "import tensorflow as tf\n",
    "import keras\n",
    "from keras.models import Model, Sequential, load_model\n",
    "from keras.preprocessing.image import ImageDataGenerator\n",
    "from keras.callbacks import ModelCheckpoint, EarlyStopping, TensorBoard\n",
    "from keras.callbacks import ReduceLROnPlateau\n",
    "from keras.layers import Conv2D, Dropout, Dense, Flatten, MaxPooling2D, BatchNormalization\n",
    "from keras.applications import vgg16\n",
    "import matplotlib.pyplot as plt\n",
    "import time\n",
    "from PIL import Image\n",
    "import pandas as pd\n",
    "import model_evaluation_utils as meu\n",
    "from tensorflow.python.keras.applications import ResNet152V2\n",
    "from keras import optimizers"
   ]
  },
  {
   "cell_type": "code",
   "execution_count": 0,
   "metadata": {
    "colab": {},
    "colab_type": "code",
    "id": "FFChkUuAeNTp"
   },
   "outputs": [],
   "source": [
    "def showNumpyImage(image):\n",
    "    plt.imshow(image, interpolation='nearest')\n",
    "    plt.show()"
   ]
  },
  {
   "cell_type": "code",
   "execution_count": 0,
   "metadata": {
    "colab": {},
    "colab_type": "code",
    "id": "BfqVF2AQemGQ"
   },
   "outputs": [],
   "source": [
    "# Load Data\n",
    "data = np.load(\"training_data.npy\", allow_pickle = True)\n",
    "\n",
    "# Split into labels and images then test and train\n",
    "x = np.array([i[0] for i in data])\n",
    "y = np.array([i[1] for i in data])\n",
    "train_x, test_x, train_y, test_y = train_test_split(x, y, test_size = 0.2, random_state = 42)\n",
    "\n",
    "# Scale images\n",
    "train_x_scaled = train_x.astype('float32')\n",
    "test_x_scaled = test_x.astype('float32')\n",
    "train_x_scaled /= 255\n",
    "test_x_scaled /= 255\n"
   ]
  },
  {
   "cell_type": "code",
   "execution_count": 0,
   "metadata": {
    "colab": {
     "base_uri": "https://localhost:8080/",
     "height": 518
    },
    "colab_type": "code",
    "id": "BUpiYygzenK5",
    "outputId": "1813a6b3-bc5e-46dc-c764-47ac031ac54d"
   },
   "outputs": [
    {
     "name": "stdout",
     "output_type": "stream",
     "text": [
      "WARNING:tensorflow:From /usr/local/lib/python3.6/dist-packages/keras/backend/tensorflow_backend.py:66: The name tf.get_default_graph is deprecated. Please use tf.compat.v1.get_default_graph instead.\n",
      "\n",
      "WARNING:tensorflow:From /usr/local/lib/python3.6/dist-packages/keras/backend/tensorflow_backend.py:541: The name tf.placeholder is deprecated. Please use tf.compat.v1.placeholder instead.\n",
      "\n",
      "WARNING:tensorflow:From /usr/local/lib/python3.6/dist-packages/keras/backend/tensorflow_backend.py:4432: The name tf.random_uniform is deprecated. Please use tf.random.uniform instead.\n",
      "\n",
      "WARNING:tensorflow:From /usr/local/lib/python3.6/dist-packages/keras/backend/tensorflow_backend.py:4267: The name tf.nn.max_pool is deprecated. Please use tf.nn.max_pool2d instead.\n",
      "\n",
      "WARNING:tensorflow:From /usr/local/lib/python3.6/dist-packages/keras/backend/tensorflow_backend.py:190: The name tf.get_default_session is deprecated. Please use tf.compat.v1.get_default_session instead.\n",
      "\n",
      "WARNING:tensorflow:From /usr/local/lib/python3.6/dist-packages/keras/backend/tensorflow_backend.py:197: The name tf.ConfigProto is deprecated. Please use tf.compat.v1.ConfigProto instead.\n",
      "\n",
      "WARNING:tensorflow:From /usr/local/lib/python3.6/dist-packages/keras/backend/tensorflow_backend.py:203: The name tf.Session is deprecated. Please use tf.compat.v1.Session instead.\n",
      "\n",
      "WARNING:tensorflow:From /usr/local/lib/python3.6/dist-packages/keras/backend/tensorflow_backend.py:207: The name tf.global_variables is deprecated. Please use tf.compat.v1.global_variables instead.\n",
      "\n",
      "WARNING:tensorflow:From /usr/local/lib/python3.6/dist-packages/keras/backend/tensorflow_backend.py:216: The name tf.is_variable_initialized is deprecated. Please use tf.compat.v1.is_variable_initialized instead.\n",
      "\n",
      "WARNING:tensorflow:From /usr/local/lib/python3.6/dist-packages/keras/backend/tensorflow_backend.py:223: The name tf.variables_initializer is deprecated. Please use tf.compat.v1.variables_initializer instead.\n",
      "\n",
      "WARNING:tensorflow:From /usr/local/lib/python3.6/dist-packages/keras/backend/tensorflow_backend.py:2041: The name tf.nn.fused_batch_norm is deprecated. Please use tf.compat.v1.nn.fused_batch_norm instead.\n",
      "\n",
      "WARNING:tensorflow:From /usr/local/lib/python3.6/dist-packages/keras/backend/tensorflow_backend.py:148: The name tf.placeholder_with_default is deprecated. Please use tf.compat.v1.placeholder_with_default instead.\n",
      "\n",
      "Downloading data from https://github.com/keras-team/keras-applications/releases/download/resnet/resnet152v2_weights_tf_dim_ordering_tf_kernels_notop.h5\n",
      "234553344/234545216 [==============================] - 3s 0us/step\n"
     ]
    }
   ],
   "source": [
    "# Configure base model\n",
    "input_shape = (224, 224, 3)\n",
    "model_resnet15v2 = keras.applications.resnet_v2.ResNet152V2(include_top = False, weights = 'imagenet', input_shape = input_shape)\n",
    "output = model_resnet15v2.layers[-1].output\n",
    "output = keras.layers.Flatten()(output)\n",
    "model_resnet15v2_model = Model(model_resnet15v2.input, output)\n"
   ]
  },
  {
   "cell_type": "code",
   "execution_count": 0,
   "metadata": {
    "colab": {
     "base_uri": "https://localhost:8080/",
     "height": 424
    },
    "colab_type": "code",
    "id": "SOfQSPZTZAA5",
    "outputId": "964b5829-c3e5-44ab-fb33-44f03f7f048a"
   },
   "outputs": [
    {
     "data": {
      "text/html": [
       "<div>\n",
       "<style scoped>\n",
       "    .dataframe tbody tr th:only-of-type {\n",
       "        vertical-align: middle;\n",
       "    }\n",
       "\n",
       "    .dataframe tbody tr th {\n",
       "        vertical-align: top;\n",
       "    }\n",
       "\n",
       "    .dataframe thead th {\n",
       "        text-align: right;\n",
       "    }\n",
       "</style>\n",
       "<table border=\"1\" class=\"dataframe\">\n",
       "  <thead>\n",
       "    <tr style=\"text-align: right;\">\n",
       "      <th></th>\n",
       "      <th>Layer Type</th>\n",
       "      <th>Layer Name</th>\n",
       "      <th>Layer Trainable</th>\n",
       "    </tr>\n",
       "  </thead>\n",
       "  <tbody>\n",
       "    <tr>\n",
       "      <th>0</th>\n",
       "      <td>&lt;keras.engine.input_layer.InputLayer object at...</td>\n",
       "      <td>input_1</td>\n",
       "      <td>False</td>\n",
       "    </tr>\n",
       "    <tr>\n",
       "      <th>1</th>\n",
       "      <td>&lt;keras.layers.convolutional.ZeroPadding2D obje...</td>\n",
       "      <td>conv1_pad</td>\n",
       "      <td>False</td>\n",
       "    </tr>\n",
       "    <tr>\n",
       "      <th>2</th>\n",
       "      <td>&lt;keras.layers.convolutional.Conv2D object at 0...</td>\n",
       "      <td>conv1_conv</td>\n",
       "      <td>False</td>\n",
       "    </tr>\n",
       "    <tr>\n",
       "      <th>3</th>\n",
       "      <td>&lt;keras.layers.convolutional.ZeroPadding2D obje...</td>\n",
       "      <td>pool1_pad</td>\n",
       "      <td>False</td>\n",
       "    </tr>\n",
       "    <tr>\n",
       "      <th>4</th>\n",
       "      <td>&lt;keras.layers.pooling.MaxPooling2D object at 0...</td>\n",
       "      <td>pool1_pool</td>\n",
       "      <td>False</td>\n",
       "    </tr>\n",
       "    <tr>\n",
       "      <th>...</th>\n",
       "      <td>...</td>\n",
       "      <td>...</td>\n",
       "      <td>...</td>\n",
       "    </tr>\n",
       "    <tr>\n",
       "      <th>560</th>\n",
       "      <td>&lt;keras.layers.convolutional.Conv2D object at 0...</td>\n",
       "      <td>conv5_block3_3_conv</td>\n",
       "      <td>False</td>\n",
       "    </tr>\n",
       "    <tr>\n",
       "      <th>561</th>\n",
       "      <td>&lt;keras.layers.merge.Add object at 0x7fba6cb9ea20&gt;</td>\n",
       "      <td>conv5_block3_out</td>\n",
       "      <td>True</td>\n",
       "    </tr>\n",
       "    <tr>\n",
       "      <th>562</th>\n",
       "      <td>&lt;keras.layers.normalization.BatchNormalization...</td>\n",
       "      <td>post_bn</td>\n",
       "      <td>True</td>\n",
       "    </tr>\n",
       "    <tr>\n",
       "      <th>563</th>\n",
       "      <td>&lt;keras.layers.core.Activation object at 0x7fba...</td>\n",
       "      <td>post_relu</td>\n",
       "      <td>True</td>\n",
       "    </tr>\n",
       "    <tr>\n",
       "      <th>564</th>\n",
       "      <td>&lt;keras.layers.core.Flatten object at 0x7fba6cb...</td>\n",
       "      <td>flatten_1</td>\n",
       "      <td>True</td>\n",
       "    </tr>\n",
       "  </tbody>\n",
       "</table>\n",
       "<p>565 rows × 3 columns</p>\n",
       "</div>"
      ],
      "text/plain": [
       "                                            Layer Type  ... Layer Trainable\n",
       "0    <keras.engine.input_layer.InputLayer object at...  ...           False\n",
       "1    <keras.layers.convolutional.ZeroPadding2D obje...  ...           False\n",
       "2    <keras.layers.convolutional.Conv2D object at 0...  ...           False\n",
       "3    <keras.layers.convolutional.ZeroPadding2D obje...  ...           False\n",
       "4    <keras.layers.pooling.MaxPooling2D object at 0...  ...           False\n",
       "..                                                 ...  ...             ...\n",
       "560  <keras.layers.convolutional.Conv2D object at 0...  ...           False\n",
       "561  <keras.layers.merge.Add object at 0x7fba6cb9ea20>  ...            True\n",
       "562  <keras.layers.normalization.BatchNormalization...  ...            True\n",
       "563  <keras.layers.core.Activation object at 0x7fba...  ...            True\n",
       "564  <keras.layers.core.Flatten object at 0x7fba6cb...  ...            True\n",
       "\n",
       "[565 rows x 3 columns]"
      ]
     },
     "execution_count": 8,
     "metadata": {
      "tags": []
     },
     "output_type": "execute_result"
    }
   ],
   "source": [
    "# Set blocks 4 and 5 to be fine tuneable\n",
    "model_resnet15v2_model.trainable = True\n",
    "set_trainable = False\n",
    "for layer in model_resnet15v2_model.layers:\n",
    "    if layer.name in ['conv5_block3_3_conv','post_relu']:\n",
    "        set_trainable = True\n",
    "    if set_trainable:\n",
    "        layer.trainable = True\n",
    "    else:\n",
    "        layer.trainable = False\n",
    "\n",
    "layers = [(layer, layer.name, layer.trainable) for layer in model_resnet15v2_model.layers]\n",
    "pd.DataFrame(layers, columns = ['Layer Type', 'Layer Name', 'Layer Trainable'])"
   ]
  },
  {
   "cell_type": "code",
   "execution_count": 0,
   "metadata": {
    "colab": {
     "base_uri": "https://localhost:8080/",
     "height": 1000
    },
    "colab_type": "code",
    "id": "WM1Hphu0evT3",
    "outputId": "dabad5a4-ee5d-4543-fff7-c5d646ddbb63"
   },
   "outputs": [
    {
     "name": "stdout",
     "output_type": "stream",
     "text": [
      "WARNING:tensorflow:From /usr/local/lib/python3.6/dist-packages/keras/backend/tensorflow_backend.py:3733: calling dropout (from tensorflow.python.ops.nn_ops) with keep_prob is deprecated and will be removed in a future version.\n",
      "Instructions for updating:\n",
      "Please use `rate` instead of `keep_prob`. Rate should be set to `rate = 1 - keep_prob`.\n",
      "Epoch 1/70\n",
      "3480/3480 [==============================] - 29s 8ms/step - loss: 0.3579 - acc: 0.8497\n",
      "Epoch 2/70\n",
      "3480/3480 [==============================] - 17s 5ms/step - loss: 0.1557 - acc: 0.9540\n",
      "Epoch 3/70\n",
      "3480/3480 [==============================] - 17s 5ms/step - loss: 0.1273 - acc: 0.9603\n",
      "Epoch 4/70\n",
      "3480/3480 [==============================] - 17s 5ms/step - loss: 0.1210 - acc: 0.9641\n",
      "Epoch 5/70\n",
      "3480/3480 [==============================] - 17s 5ms/step - loss: 0.1082 - acc: 0.9733\n",
      "Epoch 6/70\n",
      "3480/3480 [==============================] - 17s 5ms/step - loss: 0.1091 - acc: 0.9727\n",
      "Epoch 7/70\n",
      "3480/3480 [==============================] - 17s 5ms/step - loss: 0.1081 - acc: 0.9764\n",
      "Epoch 8/70\n",
      "3480/3480 [==============================] - 17s 5ms/step - loss: 0.1255 - acc: 0.9779\n",
      "Epoch 9/70\n",
      "3480/3480 [==============================] - 17s 5ms/step - loss: 0.1226 - acc: 0.9773\n",
      "Epoch 10/70\n",
      "3480/3480 [==============================] - 17s 5ms/step - loss: 0.1132 - acc: 0.9782\n",
      "Epoch 11/70\n",
      "3480/3480 [==============================] - 17s 5ms/step - loss: 0.1176 - acc: 0.9816\n",
      "Epoch 12/70\n",
      "3480/3480 [==============================] - 17s 5ms/step - loss: 0.1152 - acc: 0.9825\n",
      "Epoch 13/70\n",
      "3480/3480 [==============================] - 17s 5ms/step - loss: 0.1442 - acc: 0.9810\n",
      "Epoch 14/70\n",
      "3480/3480 [==============================] - 17s 5ms/step - loss: 0.1161 - acc: 0.9836\n",
      "Epoch 15/70\n",
      "3480/3480 [==============================] - 17s 5ms/step - loss: 0.1249 - acc: 0.9833\n",
      "Epoch 16/70\n",
      "3480/3480 [==============================] - 17s 5ms/step - loss: 0.1259 - acc: 0.9819\n",
      "Epoch 17/70\n",
      "3480/3480 [==============================] - 17s 5ms/step - loss: 0.1442 - acc: 0.9842\n",
      "Epoch 18/70\n",
      "3480/3480 [==============================] - 17s 5ms/step - loss: 0.1156 - acc: 0.9845\n",
      "Epoch 19/70\n",
      "3480/3480 [==============================] - 17s 5ms/step - loss: 0.1016 - acc: 0.9865\n",
      "Epoch 20/70\n",
      "3480/3480 [==============================] - 17s 5ms/step - loss: 0.1075 - acc: 0.9868\n",
      "Epoch 21/70\n",
      "3480/3480 [==============================] - 17s 5ms/step - loss: 0.1090 - acc: 0.9851\n",
      "Epoch 22/70\n",
      "3480/3480 [==============================] - 17s 5ms/step - loss: 0.1198 - acc: 0.9853\n",
      "Epoch 23/70\n",
      "3480/3480 [==============================] - 17s 5ms/step - loss: 0.1208 - acc: 0.9851\n",
      "Epoch 24/70\n",
      "3480/3480 [==============================] - 17s 5ms/step - loss: 0.1061 - acc: 0.9862\n",
      "Epoch 25/70\n",
      "3480/3480 [==============================] - 17s 5ms/step - loss: 0.1051 - acc: 0.9876\n",
      "Epoch 26/70\n",
      "3480/3480 [==============================] - 17s 5ms/step - loss: 0.0968 - acc: 0.9853\n",
      "Epoch 27/70\n",
      "3480/3480 [==============================] - 17s 5ms/step - loss: 0.0834 - acc: 0.9885\n",
      "Epoch 28/70\n",
      "3480/3480 [==============================] - 17s 5ms/step - loss: 0.0886 - acc: 0.9902\n",
      "Epoch 29/70\n",
      "3480/3480 [==============================] - 17s 5ms/step - loss: 0.0825 - acc: 0.9897\n",
      "Epoch 30/70\n",
      "3480/3480 [==============================] - 17s 5ms/step - loss: 0.0759 - acc: 0.9882\n",
      "Epoch 31/70\n",
      "3480/3480 [==============================] - 17s 5ms/step - loss: 0.0479 - acc: 0.9888\n",
      "Epoch 32/70\n",
      "3480/3480 [==============================] - 17s 5ms/step - loss: 0.0659 - acc: 0.9882\n",
      "Epoch 33/70\n",
      "3480/3480 [==============================] - 17s 5ms/step - loss: 0.0505 - acc: 0.9914\n",
      "Epoch 34/70\n",
      "3480/3480 [==============================] - 17s 5ms/step - loss: 0.0713 - acc: 0.9891\n",
      "Epoch 35/70\n",
      "3480/3480 [==============================] - 17s 5ms/step - loss: 0.0676 - acc: 0.9874\n",
      "Epoch 36/70\n",
      "3480/3480 [==============================] - 17s 5ms/step - loss: 0.0521 - acc: 0.9922\n",
      "Epoch 37/70\n",
      "3480/3480 [==============================] - 17s 5ms/step - loss: 0.0471 - acc: 0.9914\n",
      "Epoch 38/70\n",
      "3480/3480 [==============================] - 17s 5ms/step - loss: 0.0678 - acc: 0.9899\n",
      "Epoch 39/70\n",
      "3480/3480 [==============================] - 17s 5ms/step - loss: 0.0553 - acc: 0.9925\n",
      "Epoch 40/70\n",
      "3480/3480 [==============================] - 17s 5ms/step - loss: 0.0620 - acc: 0.9894\n",
      "Epoch 41/70\n",
      "3480/3480 [==============================] - 17s 5ms/step - loss: 0.0497 - acc: 0.9925\n",
      "Epoch 42/70\n",
      "3480/3480 [==============================] - 17s 5ms/step - loss: 0.0499 - acc: 0.9908\n",
      "Epoch 43/70\n",
      "3480/3480 [==============================] - 17s 5ms/step - loss: 0.0599 - acc: 0.9911\n",
      "Epoch 44/70\n",
      "3480/3480 [==============================] - 17s 5ms/step - loss: 0.0538 - acc: 0.9911\n",
      "Epoch 45/70\n",
      "3480/3480 [==============================] - 17s 5ms/step - loss: 0.0562 - acc: 0.9902\n",
      "Epoch 46/70\n",
      "3480/3480 [==============================] - 17s 5ms/step - loss: 0.0424 - acc: 0.9922\n",
      "Epoch 47/70\n",
      "3480/3480 [==============================] - 17s 5ms/step - loss: 0.0439 - acc: 0.9920\n",
      "Epoch 48/70\n",
      "3480/3480 [==============================] - 17s 5ms/step - loss: 0.0361 - acc: 0.9943\n",
      "Epoch 49/70\n",
      "3480/3480 [==============================] - 17s 5ms/step - loss: 0.0569 - acc: 0.9925\n",
      "Epoch 50/70\n",
      "3480/3480 [==============================] - 17s 5ms/step - loss: 0.0571 - acc: 0.9917\n",
      "Epoch 51/70\n",
      "3480/3480 [==============================] - 17s 5ms/step - loss: 0.0417 - acc: 0.9937\n",
      "Epoch 52/70\n",
      "3480/3480 [==============================] - 17s 5ms/step - loss: 0.0430 - acc: 0.9928\n",
      "Epoch 53/70\n",
      "3480/3480 [==============================] - 17s 5ms/step - loss: 0.0457 - acc: 0.9934\n",
      "Epoch 54/70\n",
      "3480/3480 [==============================] - 17s 5ms/step - loss: 0.0498 - acc: 0.9920\n",
      "Epoch 55/70\n",
      "3480/3480 [==============================] - 17s 5ms/step - loss: 0.0403 - acc: 0.9940\n",
      "Epoch 56/70\n",
      "3480/3480 [==============================] - 17s 5ms/step - loss: 0.0350 - acc: 0.9945\n",
      "Epoch 57/70\n",
      "3480/3480 [==============================] - 17s 5ms/step - loss: 0.0403 - acc: 0.9931\n",
      "Epoch 58/70\n",
      "3480/3480 [==============================] - 17s 5ms/step - loss: 0.0297 - acc: 0.9954\n",
      "Epoch 59/70\n",
      "3480/3480 [==============================] - 17s 5ms/step - loss: 0.0480 - acc: 0.9917\n",
      "Epoch 60/70\n",
      "3480/3480 [==============================] - 17s 5ms/step - loss: 0.0502 - acc: 0.9908\n",
      "Epoch 61/70\n",
      "3480/3480 [==============================] - 17s 5ms/step - loss: 0.0777 - acc: 0.9897\n",
      "Epoch 62/70\n",
      "3480/3480 [==============================] - 17s 5ms/step - loss: 0.0286 - acc: 0.9957\n",
      "Epoch 63/70\n",
      "3480/3480 [==============================] - 17s 5ms/step - loss: 0.0382 - acc: 0.9945\n",
      "Epoch 64/70\n",
      "3480/3480 [==============================] - 17s 5ms/step - loss: 0.0261 - acc: 0.9948\n",
      "Epoch 65/70\n",
      "3480/3480 [==============================] - 17s 5ms/step - loss: 0.0452 - acc: 0.9943\n",
      "Epoch 66/70\n",
      "3480/3480 [==============================] - 17s 5ms/step - loss: 0.0387 - acc: 0.9937\n",
      "Epoch 67/70\n",
      "3480/3480 [==============================] - 17s 5ms/step - loss: 0.0444 - acc: 0.9931\n",
      "Epoch 68/70\n",
      "3480/3480 [==============================] - 17s 5ms/step - loss: 0.0440 - acc: 0.9920\n",
      "Epoch 69/70\n",
      "3480/3480 [==============================] - 17s 5ms/step - loss: 0.0560 - acc: 0.9914\n",
      "Epoch 70/70\n",
      "3480/3480 [==============================] - 17s 5ms/step - loss: 0.0286 - acc: 0.9954\n"
     ]
    }
   ],
   "source": [
    "# Run model for unaugmented data\n",
    "\n",
    "\n",
    "model = Sequential()\n",
    "\n",
    "model.add(model_resnet15v2_model)\n",
    "model.add(BatchNormalization())\n",
    "model.add(Dense(512, activation='relu', input_dim=input_shape))\n",
    "model.add(Dropout(0.3))\n",
    "model.add(Dense(512, activation='relu'))\n",
    "model.add(Dropout(0.3))\n",
    "model.add(Dense(1, activation='sigmoid'))\n",
    "\n",
    "model.layers[0].trainable = False\n",
    "\n",
    "\n",
    "model.compile(loss='binary_crossentropy',\n",
    "              optimizer=optimizers.RMSprop(lr=1e-5),\n",
    "              metrics=['accuracy'])\n",
    "\n",
    "model.compile(loss='binary_crossentropy',\n",
    "              optimizer=optimizers.RMSprop(lr=1e-5),\n",
    "              metrics=['accuracy'])\n",
    "              \n",
    "history = model.fit(train_x_scaled, train_y, batch_size=32, epochs=70, \n",
    "                              verbose=1)"
   ]
  },
  {
   "cell_type": "code",
   "execution_count": 0,
   "metadata": {
    "colab": {},
    "colab_type": "code",
    "id": "tyighE_8exfv"
   },
   "outputs": [],
   "source": [
    "test_predictions = model.predict(test_x_scaled)\n",
    "test_predictions_labelled = [0 if x<0.1 else 1 for x in test_predictions]"
   ]
  },
  {
   "cell_type": "code",
   "execution_count": 0,
   "metadata": {
    "colab": {
     "base_uri": "https://localhost:8080/",
     "height": 573
    },
    "colab_type": "code",
    "id": "mB2X41cbmXU_",
    "outputId": "6d1006bc-acee-4f2e-cd36-c3a73d638475"
   },
   "outputs": [
    {
     "name": "stdout",
     "output_type": "stream",
     "text": [
      "Model Performance metrics:\n",
      "------------------------------\n",
      "Accuracy: 0.9563\n",
      "Precision: 0.9189\n",
      "Recall: 0.9563\n",
      "F1 Score: 0.9372\n",
      "\n",
      "Model Classification report:\n",
      "------------------------------\n",
      "              precision    recall  f1-score   support\n",
      "\n",
      "           0       0.96      1.00      0.98       834\n",
      "           1       0.00      0.00      0.00        36\n",
      "\n",
      "    accuracy                           0.96       870\n",
      "   macro avg       0.48      0.50      0.49       870\n",
      "weighted avg       0.92      0.96      0.94       870\n",
      "\n",
      "\n",
      "Prediction Confusion Matrix:\n",
      "------------------------------\n",
      "          Predicted:   \n",
      "                   0  1\n",
      "Actual: 0        832  2\n",
      "        1         36  0\n"
     ]
    },
    {
     "name": "stderr",
     "output_type": "stream",
     "text": [
      "/content/gdrive/My Drive/MMAI/model_evaluation_utils.py:67: FutureWarning: the 'labels' keyword is deprecated, use 'codes' instead\n",
      "  labels=level_labels),\n",
      "/content/gdrive/My Drive/MMAI/model_evaluation_utils.py:69: FutureWarning: the 'labels' keyword is deprecated, use 'codes' instead\n",
      "  labels=level_labels))\n"
     ]
    }
   ],
   "source": [
    "# Display performance metrics\n",
    "meu.display_model_performance_metrics(true_labels=test_y, predicted_labels=test_predictions_labelled, classes=list(set(test_y)))"
   ]
  },
  {
   "cell_type": "code",
   "execution_count": 0,
   "metadata": {
    "colab": {},
    "colab_type": "code",
    "id": "W_2OpVavwfYN"
   },
   "outputs": [],
   "source": [
    "# Extract just fire images for augmentation\n",
    "# TODO: this is not very efficient\n",
    "data_df = pd.DataFrame(data)\n",
    "just_fire = data_df[data_df[1] ==1]\n",
    "just_fire_images = just_fire[0].tolist()\n",
    "just_fire_labels = just_fire[1].tolist()"
   ]
  },
  {
   "cell_type": "code",
   "execution_count": 0,
   "metadata": {
    "colab": {},
    "colab_type": "code",
    "id": "fFe_ZD-pwgz0"
   },
   "outputs": [],
   "source": [
    "fire_data_aug = ImageDataGenerator(rescale=1./255, zoom_range=0.3, rotation_range=60,\n",
    "                                   width_shift_range=0.2, height_shift_range=0.2, shear_range=0.2, \n",
    "                                   horizontal_flip=True, vertical_flip=True, fill_mode='nearest')"
   ]
  },
  {
   "cell_type": "code",
   "execution_count": 0,
   "metadata": {
    "colab": {},
    "colab_type": "code",
    "id": "F8mw_uV0wiO4"
   },
   "outputs": [],
   "source": [
    "# Produce 12 random augmented image per fire image\n",
    "from numpy import expand_dims\n",
    "aug_images = []\n",
    "aug_image_lables = []\n",
    "for image in just_fire_images:\n",
    "    image = expand_dims(image,0)\n",
    "    it = fire_data_aug.flow(image, batch_size=1)\n",
    "    for i in range(12):\n",
    "        batch = it.next()\n",
    "        aug_images.append(batch[0])\n",
    "        aug_image_lables.append(1)"
   ]
  },
  {
   "cell_type": "code",
   "execution_count": 0,
   "metadata": {
    "colab": {},
    "colab_type": "code",
    "id": "0y2o-g1DwjpQ"
   },
   "outputs": [],
   "source": [
    "# Create new augmented training and label set by combining original training and augmented training sets\n",
    "train_x_aug = np.concatenate((train_x_scaled,np.array(aug_images)))\n",
    "train_y_aug = np.concatenate((train_y,np.array(aug_image_lables)))"
   ]
  },
  {
   "cell_type": "code",
   "execution_count": 0,
   "metadata": {
    "colab": {
     "base_uri": "https://localhost:8080/",
     "height": 572
    },
    "colab_type": "code",
    "id": "Ln_pRwf2wjhx",
    "outputId": "d4b54e87-d76b-4804-c4ba-e3745bf28c0f"
   },
   "outputs": [
    {
     "name": "stdout",
     "output_type": "stream",
     "text": [
      "Epoch 1/15\n",
      "5820/5820 [==============================] - 44s 8ms/step - loss: 0.2089 - acc: 0.9208\n",
      "Epoch 2/15\n",
      "5820/5820 [==============================] - 28s 5ms/step - loss: 0.0760 - acc: 0.9727\n",
      "Epoch 3/15\n",
      "5820/5820 [==============================] - 28s 5ms/step - loss: 0.0401 - acc: 0.9849\n",
      "Epoch 4/15\n",
      "5820/5820 [==============================] - 28s 5ms/step - loss: 0.0279 - acc: 0.9907\n",
      "Epoch 5/15\n",
      "5820/5820 [==============================] - 28s 5ms/step - loss: 0.0173 - acc: 0.9940\n",
      "Epoch 6/15\n",
      "5820/5820 [==============================] - 28s 5ms/step - loss: 0.0138 - acc: 0.9952\n",
      "Epoch 7/15\n",
      "5820/5820 [==============================] - 28s 5ms/step - loss: 0.0090 - acc: 0.9966\n",
      "Epoch 8/15\n",
      "5820/5820 [==============================] - 28s 5ms/step - loss: 0.0057 - acc: 0.9981\n",
      "Epoch 9/15\n",
      "5820/5820 [==============================] - 28s 5ms/step - loss: 0.0060 - acc: 0.9976\n",
      "Epoch 10/15\n",
      "5820/5820 [==============================] - 29s 5ms/step - loss: 0.0062 - acc: 0.9981\n",
      "Epoch 11/15\n",
      "5820/5820 [==============================] - 29s 5ms/step - loss: 0.0044 - acc: 0.9983\n",
      "Epoch 12/15\n",
      "5820/5820 [==============================] - 29s 5ms/step - loss: 0.0030 - acc: 0.9993\n",
      "Epoch 13/15\n",
      "5820/5820 [==============================] - 29s 5ms/step - loss: 0.0019 - acc: 0.9998\n",
      "Epoch 14/15\n",
      "5820/5820 [==============================] - 29s 5ms/step - loss: 0.0023 - acc: 0.9991\n",
      "Epoch 15/15\n",
      "5820/5820 [==============================] - 29s 5ms/step - loss: 0.0017 - acc: 0.9995\n"
     ]
    }
   ],
   "source": [
    "\n",
    "\n",
    "# Run model with augmented data \n",
    "model_aug = Sequential()\n",
    "model_aug.add(model_resnet15v2_model)\n",
    "model.add(BatchNormalization())\n",
    "model_aug.add(Dense(512, activation='relu', input_dim=input_shape))\n",
    "model.add(Dropout(0.3))\n",
    "model_aug.add(Dense(512, activation='relu'))\n",
    "model.add(Dropout(0.3))\n",
    "model_aug.add(Dense(1, activation='sigmoid'))\n",
    "\n",
    "model_aug.compile(loss='binary_crossentropy',\n",
    "              optimizer=optimizers.RMSprop(lr=1e-5),\n",
    "              metrics=['accuracy'])\n",
    "\n",
    "model_aug.compile(loss='binary_crossentropy',\n",
    "              optimizer=optimizers.RMSprop(lr=1e-5),\n",
    "              metrics=['accuracy'])\n",
    "              \n",
    "history_aug = model_aug.fit(train_x_aug, train_y_aug, batch_size=32, epochs=15, \n",
    "                              verbose=1)\n",
    "\n"
   ]
  },
  {
   "cell_type": "code",
   "execution_count": 0,
   "metadata": {
    "colab": {},
    "colab_type": "code",
    "id": "9Cwm3yC3wm9h"
   },
   "outputs": [],
   "source": [
    "# Make preditions with augmented data model & convert to binary\n",
    "test_predictions_aug = model_aug.predict(test_x_scaled)\n",
    "test_predictions_aug_labelled = [0 if x<0.1 else 1 for x in test_predictions_aug]"
   ]
  },
  {
   "cell_type": "code",
   "execution_count": 0,
   "metadata": {
    "colab": {
     "base_uri": "https://localhost:8080/",
     "height": 573
    },
    "colab_type": "code",
    "id": "9Ef67ApDwpi5",
    "outputId": "2e450cd2-2876-4e16-e277-39d3fb237ed2"
   },
   "outputs": [
    {
     "name": "stdout",
     "output_type": "stream",
     "text": [
      "Model Performance metrics:\n",
      "------------------------------\n",
      "Accuracy: 0.8966\n",
      "Precision: 0.9419\n",
      "Recall: 0.8966\n",
      "F1 Score: 0.9162\n",
      "\n",
      "Model Classification report:\n",
      "------------------------------\n",
      "              precision    recall  f1-score   support\n",
      "\n",
      "           0       0.97      0.92      0.94       834\n",
      "           1       0.19      0.44      0.26        36\n",
      "\n",
      "    accuracy                           0.90       870\n",
      "   macro avg       0.58      0.68      0.60       870\n",
      "weighted avg       0.94      0.90      0.92       870\n",
      "\n",
      "\n",
      "Prediction Confusion Matrix:\n",
      "------------------------------\n",
      "          Predicted:    \n",
      "                   0   1\n",
      "Actual: 0        764  70\n",
      "        1         20  16\n"
     ]
    },
    {
     "name": "stderr",
     "output_type": "stream",
     "text": [
      "/content/gdrive/My Drive/MMAI/model_evaluation_utils.py:67: FutureWarning: the 'labels' keyword is deprecated, use 'codes' instead\n",
      "  labels=level_labels),\n",
      "/content/gdrive/My Drive/MMAI/model_evaluation_utils.py:69: FutureWarning: the 'labels' keyword is deprecated, use 'codes' instead\n",
      "  labels=level_labels))\n"
     ]
    }
   ],
   "source": [
    "# Display performance metrics (9X augmentation, 3 Epoch)\n",
    "meu.display_model_performance_metrics(true_labels=test_y, predicted_labels=test_predictions_aug_labelled, classes=list(set(test_y)))"
   ]
  },
  {
   "cell_type": "code",
   "execution_count": 0,
   "metadata": {
    "colab": {},
    "colab_type": "code",
    "id": "aeQiu_M6wqlq"
   },
   "outputs": [],
   "source": [
    "# Display performance metrics (9X augmentation, 10 Epoch)\n",
    "meu.display_model_performance_metrics(true_labels=test_y, predicted_labels=test_predictions_aug_labelled, classes=list(set(test_y)))"
   ]
  },
  {
   "cell_type": "code",
   "execution_count": 0,
   "metadata": {
    "colab": {},
    "colab_type": "code",
    "id": "qUkg6SBswrvC"
   },
   "outputs": [],
   "source": [
    "\n",
    "\n",
    "# Display performance metrics (12X augmentation, incl. vertical_flip, 10 Epoch)\n",
    "meu.display_model_performance_metrics(true_labels=test_y, predicted_labels=test_predictions_aug_labelled, classes=list(set(test_y)))\n",
    "\n"
   ]
  },
  {
   "cell_type": "code",
   "execution_count": 0,
   "metadata": {
    "colab": {},
    "colab_type": "code",
    "id": "rOIdtRtO4lD9"
   },
   "outputs": [],
   "source": []
  }
 ],
 "metadata": {
  "accelerator": "GPU",
  "colab": {
   "collapsed_sections": [],
   "machine_shape": "hm",
   "name": "load_and_split_data",
   "provenance": []
  },
  "kernelspec": {
   "display_name": "Python 3",
   "language": "python",
   "name": "python3"
  },
  "language_info": {
   "codemirror_mode": {
    "name": "ipython",
    "version": 3
   },
   "file_extension": ".py",
   "mimetype": "text/x-python",
   "name": "python",
   "nbconvert_exporter": "python",
   "pygments_lexer": "ipython3",
   "version": "3.6.8"
  }
 },
 "nbformat": 4,
 "nbformat_minor": 1
}
